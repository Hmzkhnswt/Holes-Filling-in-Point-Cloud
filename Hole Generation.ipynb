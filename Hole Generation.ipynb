{
 "cells": [
  {
   "cell_type": "code",
   "execution_count": 105,
   "metadata": {},
   "outputs": [],
   "source": [
    "import open3d as o3d\n",
    "import matplotlib.pyplot as plt\n",
    "import numpy as np\n",
    "import cv2 as cv"
   ]
  },
  {
   "cell_type": "code",
   "execution_count": 106,
   "metadata": {},
   "outputs": [
    {
     "data": {
      "text/plain": [
       "open3d.cpu.pybind.geometry.PointCloud"
      ]
     },
     "execution_count": 106,
     "metadata": {},
     "output_type": "execute_result"
    }
   ],
   "source": [
    "office_pcd = o3d.io.read_point_cloud(\"data\\\\fragment.ply\")\n",
    "o3d.visualization.draw_geometries([office_pcd],\n",
    "                                  zoom=0.3412,\n",
    "                                  front=[0.4257, -0.2125, -0.8795],\n",
    "                                  lookat=[2.6172, 2.0475, 1.532],\n",
    "                                  up=[-0.0694, -0.9768, 0.2024])\n",
    "type(office_pcd)"
   ]
  },
  {
   "cell_type": "code",
   "execution_count": 107,
   "metadata": {},
   "outputs": [
    {
     "name": "stdout",
     "output_type": "stream",
     "text": [
      "X coordinates: [0.65234375 0.65234375 0.66737998 ... 2.00839925 2.00390625 2.00390625]\n",
      "Y coordinates: [0.84686458 0.83984375 0.83984375 ... 2.39453125 2.39488506 2.39453125]\n",
      "Z coordinates: [2.37890625 2.38430572 2.37890625 ... 1.88671875 1.88671875 1.88793314]\n",
      "196133\n"
     ]
    }
   ],
   "source": [
    "point_cloud_np = np.asarray(office_pcd.points)\n",
    "# Extract X, Y, and Z coordinates\n",
    "x = point_cloud_np[:, 0]\n",
    "y = point_cloud_np[:, 1]\n",
    "z = point_cloud_np[:, 2]\n",
    "# Print or use the X, Y, and Z coordinates as needed\n",
    "print('X coordinates:', x)\n",
    "print('Y coordinates:', y)\n",
    "print('Z coordinates:', z)\n",
    "print(len(point_cloud_np))"
   ]
  },
  {
   "attachments": {},
   "cell_type": "markdown",
   "metadata": {},
   "source": [
    "### Just accessing the points and indeces of the queury point "
   ]
  },
  {
   "cell_type": "code",
   "execution_count": 108,
   "metadata": {},
   "outputs": [
    {
     "name": "stdout",
     "output_type": "stream",
     "text": [
      "500\n",
      "196133\n",
      "<class 'numpy.ndarray'>\n",
      "[[0.65234375 0.84686458 2.37890625]\n",
      " [0.65234375 0.83984375 2.38430572]\n",
      " [0.66737998 0.83984375 2.37890625]\n",
      " ...\n",
      " [2.00839925 2.39453125 1.88671875]\n",
      " [2.00390625 2.39488506 1.88671875]\n",
      " [2.00390625 2.39453125 1.88793314]]\n"
     ]
    }
   ],
   "source": [
    "points = np.vstack((x, y, z)).T\n",
    "pcd = o3d.geometry.PointCloud()\n",
    "pcd.points = o3d.utility.Vector3dVector(points)\n",
    "kdtree = o3d.geometry.KDTreeFlann(pcd)\n",
    "                                            ### Queury Point\n",
    "query_point = np.array([2.00839925, 2.39453125, 1.88671875])\n",
    "                                            ### Finding the indexes of nearest 5000 points\n",
    "_, indices, _ = kdtree.search_knn_vector_3d(query_point, 500)\n",
    "\n",
    "print(len(indices))\n",
    "print(len(points))\n",
    "print(type(points))\n",
    "print(points)\n"
   ]
  },
  {
   "attachments": {},
   "cell_type": "markdown",
   "metadata": {},
   "source": [
    "### getting the indeces of the nearest neighbours"
   ]
  },
  {
   "cell_type": "code",
   "execution_count": 109,
   "metadata": {},
   "outputs": [
    {
     "name": "stdout",
     "output_type": "stream",
     "text": [
      "[[2.00839925 2.39453125 1.88671875]\n",
      " [2.01171875 2.39453125 1.8859278 ]\n",
      " [2.01171875 2.39223051 1.88671875]\n",
      " ...\n",
      " [2.05859375 2.32421875 1.87442505]\n",
      " [2.08203125 2.39791465 1.83984375]\n",
      " [1.92578125 2.38671875 1.91403759]]\n",
      "500\n",
      "<class 'numpy.ndarray'>\n"
     ]
    }
   ],
   "source": [
    "# Getting the coordinates of points using indices\n",
    "coordinates_to_delete = points[indices]\n",
    "print(coordinates_to_delete)\n",
    "print(len(coordinates_to_delete))\n",
    "print(type(coordinates_to_delete))"
   ]
  },
  {
   "cell_type": "code",
   "execution_count": 110,
   "metadata": {},
   "outputs": [
    {
     "name": "stdout",
     "output_type": "stream",
     "text": [
      "170099\n",
      "<class 'numpy.ndarray'>\n"
     ]
    }
   ],
   "source": [
    "# Filter out the points that are not in the 'coordinates_to_delete'\n",
    "remaining_points = np.array([point for point in points if point not in coordinates_to_delete])\n",
    "\n",
    "# Convert 'remaining_points' to Open3D point cloud format\n",
    "remaining_pcd = o3d.geometry.PointCloud()\n",
    "remaining_pcd.points = o3d.utility.Vector3dVector(remaining_points)\n",
    "\n",
    "# Print information about remaining points\n",
    "print(len(remaining_points))\n",
    "print(type(remaining_points))\n",
    "\n",
    "# Visualize or save 'remaining_pcd' as needed\n",
    "o3d.visualization.draw_geometries([remaining_pcd]) \n"
   ]
  },
  {
   "attachments": {},
   "cell_type": "markdown",
   "metadata": {},
   "source": [
    "### Function that Detects Hole and Boundry of the Hole and Point Cloud"
   ]
  },
  {
   "cell_type": "code",
   "execution_count": 111,
   "metadata": {},
   "outputs": [],
   "source": [
    "def display_inlier_outlier(cloud, ind):\n",
    "    inlier_cloud = cloud.select_by_index(ind)\n",
    "    outlier_cloud = cloud.select_by_index(ind, invert=True)\n",
    "\n",
    "    print(\"Showing outliers (red) and inliers (gray): \")\n",
    "    outlier_cloud.paint_uniform_color([1, 0, 0])\n",
    "    inlier_cloud.paint_uniform_color([0.8, 0.8, 0.8])\n",
    "    o3d.visualization.draw_geometries([inlier_cloud, outlier_cloud],\n",
    "                                      zoom=0.3412,\n",
    "                                      front=[0.4257, -0.2125, -0.8795],\n",
    "                                      lookat=[2.6172, 2.0475, 1.532],\n",
    "                                      up=[-0.0694, -0.9768, 0.2024])"
   ]
  },
  {
   "cell_type": "code",
   "execution_count": 113,
   "metadata": {},
   "outputs": [
    {
     "name": "stdout",
     "output_type": "stream",
     "text": [
      "Statistical oulier removal\n",
      "Showing outliers (red) and inliers (gray): \n",
      "[Open3D WARNING] GLFW Error: WGL: Failed to make context current: The requested transformation operation is not supported. \n",
      "[Open3D WARNING] GLFW Error: WGL: Failed to make context current: The handle is invalid. \n",
      "[Open3D WARNING] GLFW Error: WGL: Failed to make context current: The handle is invalid. \n"
     ]
    }
   ],
   "source": [
    "print(\"Statistical oulier removal\")\n",
    "cl, ind = remaining_pcd.remove_statistical_outlier(nb_neighbors=35,\n",
    "                                                    std_ratio=1.0)\n",
    "display_inlier_outlier(remaining_pcd, ind)"
   ]
  },
  {
   "attachments": {},
   "cell_type": "markdown",
   "metadata": {},
   "source": [
    "### Function that generate the Hole"
   ]
  },
  {
   "cell_type": "code",
   "execution_count": 115,
   "metadata": {},
   "outputs": [],
   "source": [
    "def hole_generation(neighbours, pcd):\n",
    "\n",
    "    point_cloud_np = np.asarray(pcd.points)\n",
    "                                            ### getting the x,y and z cordinates of the whole point cloud\n",
    "    x = point_cloud_np[:, 0]\n",
    "    y = point_cloud_np[:, 1]\n",
    "    z = point_cloud_np[:, 2]\n",
    "\n",
    "    points = np.vstack((x, y, z)).T\n",
    "    pcd = o3d.geometry.PointCloud()\n",
    "    pcd.points = o3d.utility.Vector3dVector(points)\n",
    "    kdtree = o3d.geometry.KDTreeFlann(pcd)\n",
    "                                                                    ### Queury Point\n",
    "    query_point = np.array([2.00839925, 2.39453125, 1.88671875])\n",
    "                                                      ### Finding the indexes of nearest 5000 points\n",
    "    _, indices, _ = kdtree.search_knn_vector_3d(query_point, neighbours)\n",
    "\n",
    "    coordinates_to_delete = points[indices]\n",
    "\n",
    "    remaining_points = np.array([point for point in points if point not in coordinates_to_delete])\n",
    "\n",
    "    # Convert 'remaining_points' to Open3D point cloud format\n",
    "    remaining_pcd = o3d.geometry.PointCloud()\n",
    "    remaining_pcd.points = o3d.utility.Vector3dVector(remaining_points)\n",
    "\n",
    "    o3d.visualization.draw_geometries([remaining_pcd]) "
   ]
  },
  {
   "cell_type": "code",
   "execution_count": 116,
   "metadata": {},
   "outputs": [
    {
     "name": "stdout",
     "output_type": "stream",
     "text": [
      "[Open3D WARNING] GLFW Error: WGL: Failed to make context current: The requested transformation operation is not supported. \n"
     ]
    }
   ],
   "source": [
    "hole_generation(500, office_pcd)"
   ]
  }
 ],
 "metadata": {
  "kernelspec": {
   "display_name": "Python 3",
   "language": "python",
   "name": "python3"
  },
  "language_info": {
   "codemirror_mode": {
    "name": "ipython",
    "version": 3
   },
   "file_extension": ".py",
   "mimetype": "text/x-python",
   "name": "python",
   "nbconvert_exporter": "python",
   "pygments_lexer": "ipython3",
   "version": "3.10.11"
  },
  "orig_nbformat": 4
 },
 "nbformat": 4,
 "nbformat_minor": 2
}
